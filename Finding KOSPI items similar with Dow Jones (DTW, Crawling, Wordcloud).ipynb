{
 "cells": [
  {
   "cell_type": "code",
   "execution_count": 1,
   "metadata": {},
   "outputs": [],
   "source": [
    "import pandas as pd\n",
    "import os, sys\n",
    "import numpy as np\n",
    "import random"
   ]
  },
  {
   "cell_type": "code",
   "execution_count": 2,
   "metadata": {},
   "outputs": [],
   "source": [
    "os.chdir(\"C:/Users/USER/Desktop/DSC\")"
   ]
  },
  {
   "cell_type": "markdown",
   "metadata": {},
   "source": [
    "# 같은 기간동안 DOW 지수"
   ]
  },
  {
   "cell_type": "code",
   "execution_count": 3,
   "metadata": {},
   "outputs": [],
   "source": [
    "dow= pd.read_csv(\"dow.csv\")"
   ]
  },
  {
   "cell_type": "code",
   "execution_count": 4,
   "metadata": {},
   "outputs": [],
   "source": [
    "dow=np.array(dow)\n",
    "dow=dow.reshape([330])"
   ]
  },
  {
   "cell_type": "code",
   "execution_count": 5,
   "metadata": {},
   "outputs": [],
   "source": [
    "idx=np.sort(random.sample(range(0, 329), 323))\n",
    "dow=dow[idx]"
   ]
  },
  {
   "cell_type": "code",
   "execution_count": 6,
   "metadata": {},
   "outputs": [],
   "source": [
    "min=dow[np.argmin(dow)]\n",
    "max=dow[np.argmax(dow)]\n",
    "     "
   ]
  },
  {
   "cell_type": "code",
   "execution_count": 7,
   "metadata": {},
   "outputs": [],
   "source": [
    "for i in range(len(dow)):\n",
    "    dow[i]=(dow[i]-min)/(max-min)   "
   ]
  },
  {
   "cell_type": "markdown",
   "metadata": {},
   "source": [
    "# 거래량 많고 데이터 보존되어있는 500개의 종목 고르기"
   ]
  },
  {
   "cell_type": "code",
   "execution_count": 8,
   "metadata": {},
   "outputs": [
    {
     "name": "stderr",
     "output_type": "stream",
     "text": [
      "C:\\Users\\USER\\Anaconda3\\lib\\site-packages\\IPython\\core\\interactiveshell.py:3020: DtypeWarning: Columns (0) have mixed types. Specify dtype option on import or set low_memory=False.\n",
      "  interactivity=interactivity, compiler=compiler, result=result)\n"
     ]
    }
   ],
   "source": [
    "df= pd.read_csv(\"st_data_itemChargeFull.txt\",sep=\"\\t\",encoding='UTF-16')\n",
    "df=df[(df.market == 'KOSPI')]\n",
    "df=df[['itemname','date','close_val','acc_quant']]"
   ]
  },
  {
   "cell_type": "code",
   "execution_count": 9,
   "metadata": {},
   "outputs": [
    {
     "data": {
      "text/plain": [
       "881"
      ]
     },
     "execution_count": 9,
     "metadata": {},
     "output_type": "execute_result"
    }
   ],
   "source": [
    "itemname=np.array(df['itemname'])\n",
    "itemname=np.unique(itemname)\n",
    "len(itemname)"
   ]
  },
  {
   "cell_type": "code",
   "execution_count": 10,
   "metadata": {},
   "outputs": [],
   "source": [
    "timeseries=[]\n",
    "for i in range(len(itemname)):\n",
    "    timeseries.append( df[(df.itemname == itemname[i])] )"
   ]
  },
  {
   "cell_type": "code",
   "execution_count": 11,
   "metadata": {},
   "outputs": [
    {
     "data": {
      "text/plain": [
       "323"
      ]
     },
     "execution_count": 11,
     "metadata": {},
     "output_type": "execute_result"
    }
   ],
   "source": [
    "max=0\n",
    "for i in range(len(timeseries)):\n",
    "    if len(timeseries[i])>max:\n",
    "        max=len(timeseries[i])\n",
    "max"
   ]
  },
  {
   "cell_type": "code",
   "execution_count": 12,
   "metadata": {},
   "outputs": [
    {
     "data": {
      "text/plain": [
       "802"
      ]
     },
     "execution_count": 12,
     "metadata": {},
     "output_type": "execute_result"
    }
   ],
   "source": [
    "timeseries_final=[]\n",
    "for i in range(len(timeseries)):\n",
    "    if len(timeseries[i])==323 :\n",
    "        timeseries_final.append(timeseries[i])\n",
    "len(timeseries_final)"
   ]
  },
  {
   "cell_type": "code",
   "execution_count": 13,
   "metadata": {},
   "outputs": [
    {
     "data": {
      "text/plain": [
       "881"
      ]
     },
     "execution_count": 13,
     "metadata": {},
     "output_type": "execute_result"
    }
   ],
   "source": [
    "len(itemname)"
   ]
  },
  {
   "cell_type": "code",
   "execution_count": 14,
   "metadata": {},
   "outputs": [],
   "source": [
    "volume=[]\n",
    "for i in range(len(timeseries_final)):\n",
    "    volume.append(np.mean(timeseries_final[i]['acc_quant']))"
   ]
  },
  {
   "cell_type": "code",
   "execution_count": 15,
   "metadata": {},
   "outputs": [],
   "source": [
    "array = np.array(volume)\n",
    "order = array.argsort()\n",
    "ranks = order.argsort()"
   ]
  },
  {
   "cell_type": "code",
   "execution_count": 16,
   "metadata": {},
   "outputs": [],
   "source": [
    "final=[]\n",
    "for i in range(len(timeseries_final)):\n",
    "    if (ranks[i]>301):\n",
    "        final.append(timeseries_final[i])"
   ]
  },
  {
   "cell_type": "code",
   "execution_count": 17,
   "metadata": {},
   "outputs": [],
   "source": [
    "#final : 거래량이 가장 많았고, 3년간의 데이터가 모두 축적되어있는 30개의 코스피 종목의 종가 데이터\n",
    "#itemname : 그 30개의 이름을 가지고 있는 리스트\n",
    "itemname=[]\n",
    "for i in range(len(final)):\n",
    "    itemname.append(final[i]['itemname'].iloc[0])"
   ]
  },
  {
   "cell_type": "code",
   "execution_count": 18,
   "metadata": {
    "scrolled": true
   },
   "outputs": [
    {
     "data": {
      "text/plain": [
       "500"
      ]
     },
     "execution_count": 18,
     "metadata": {},
     "output_type": "execute_result"
    }
   ],
   "source": [
    "len(itemname)"
   ]
  },
  {
   "cell_type": "code",
   "execution_count": 19,
   "metadata": {},
   "outputs": [],
   "source": [
    "#date : 그 30개의 날짜를 가지고 있는 리스트\n",
    "date=final[0]['date']"
   ]
  },
  {
   "cell_type": "code",
   "execution_count": 20,
   "metadata": {},
   "outputs": [],
   "source": [
    "#data 그 30개의 시계열 데이터를 담고 있는 리스트\n",
    "data=[]\n",
    "for i in range(len(final)):\n",
    "    data.append(final[i]['close_val'])"
   ]
  },
  {
   "cell_type": "code",
   "execution_count": 21,
   "metadata": {},
   "outputs": [],
   "source": [
    "#data[0].iloc[np.argmax(data[0])]\n",
    "data=np.array(data)"
   ]
  },
  {
   "cell_type": "code",
   "execution_count": 22,
   "metadata": {},
   "outputs": [
    {
     "data": {
      "text/plain": [
       "500"
      ]
     },
     "execution_count": 22,
     "metadata": {},
     "output_type": "execute_result"
    }
   ],
   "source": [
    "len(data)"
   ]
  },
  {
   "cell_type": "code",
   "execution_count": 23,
   "metadata": {},
   "outputs": [],
   "source": [
    "for i in range(len(data)):\n",
    "    min=data[i][np.argmin(data[i])]\n",
    "    max=data[i][np.argmax(data[i])]\n",
    "    for j in range(len(date)):\n",
    "        data[i][j]=(data[i][j]-min)/(max-min)        "
   ]
  },
  {
   "cell_type": "code",
   "execution_count": 24,
   "metadata": {
    "scrolled": true
   },
   "outputs": [
    {
     "data": {
      "text/plain": [
       "array([[0.89748369, 0.88816403, 0.8555452 , ..., 0.36626281, 0.32432432,\n",
       "        0.37092265],\n",
       "       [0.30612618, 0.30247421, 0.30886515, ..., 0.00465626, 0.00429106,\n",
       "        0.00328677],\n",
       "       [0.68574635, 0.74186308, 0.74186308, ..., 0.01459035, 0.0359147 ,\n",
       "        0.02356902],\n",
       "       ...,\n",
       "       [0.6424581 , 0.62290503, 0.7122905 , ..., 0.61173184, 0.66201117,\n",
       "        0.70111732],\n",
       "       [0.09364162, 0.13294798, 0.20924855, ..., 0.32138728, 0.26705202,\n",
       "        0.26473988],\n",
       "       [0.64562717, 0.60550949, 0.62021931, ..., 0.01230275, 0.00748863,\n",
       "        0.        ]])"
      ]
     },
     "execution_count": 24,
     "metadata": {},
     "output_type": "execute_result"
    }
   ],
   "source": [
    "data"
   ]
  },
  {
   "cell_type": "code",
   "execution_count": 25,
   "metadata": {},
   "outputs": [],
   "source": [
    "import matplotlib.pyplot as plt"
   ]
  },
  {
   "cell_type": "code",
   "execution_count": 26,
   "metadata": {},
   "outputs": [
    {
     "data": {
      "text/plain": [
       "500"
      ]
     },
     "execution_count": 26,
     "metadata": {},
     "output_type": "execute_result"
    }
   ],
   "source": [
    "len(data)"
   ]
  },
  {
   "cell_type": "code",
   "execution_count": 41,
   "metadata": {},
   "outputs": [
    {
     "data": {
      "text/plain": [
       "array([[0.89748369, 0.88816403, 0.8555452 , ..., 0.36626281, 0.32432432,\n",
       "        0.37092265],\n",
       "       [0.30612618, 0.30247421, 0.30886515, ..., 0.00465626, 0.00429106,\n",
       "        0.00328677],\n",
       "       [0.68574635, 0.74186308, 0.74186308, ..., 0.01459035, 0.0359147 ,\n",
       "        0.02356902],\n",
       "       ...,\n",
       "       [0.6424581 , 0.62290503, 0.7122905 , ..., 0.61173184, 0.66201117,\n",
       "        0.70111732],\n",
       "       [0.09364162, 0.13294798, 0.20924855, ..., 0.32138728, 0.26705202,\n",
       "        0.26473988],\n",
       "       [0.64562717, 0.60550949, 0.62021931, ..., 0.01230275, 0.00748863,\n",
       "        0.        ]])"
      ]
     },
     "execution_count": 41,
     "metadata": {},
     "output_type": "execute_result"
    }
   ],
   "source": [
    "data"
   ]
  },
  {
   "cell_type": "markdown",
   "metadata": {},
   "source": [
    "# DOW 지수와 500개 종목 시계열 데이터 간의 거리를 Dynamic Time Warping 기법을 통해서 구하기 "
   ]
  },
  {
   "cell_type": "code",
   "execution_count": 28,
   "metadata": {},
   "outputs": [],
   "source": [
    "def DTWDistance(s1, s2):\n",
    "    DTW={}\n",
    "\n",
    "    for i in range(len(s1)):\n",
    "        DTW[(i, -1)] = float('inf')\n",
    "    for i in range(len(s2)):\n",
    "        DTW[(-1, i)] = float('inf')\n",
    "    DTW[(-1, -1)] = 0\n",
    "\n",
    "    for i in range(len(s1)):\n",
    "        for j in range(len(s2)):\n",
    "            dist= (s1[i]-s2[j])**2\n",
    "            DTW[(i, j)] = dist + np.min([DTW[(i-1, j)],DTW[(i, j-1)], DTW[(i-1, j-1)]])\n",
    "\n",
    "    return np.sqrt(DTW[len(s1)-1, len(s2)-1])"
   ]
  },
  {
   "cell_type": "code",
   "execution_count": 29,
   "metadata": {},
   "outputs": [
    {
     "name": "stdout",
     "output_type": "stream",
     "text": [
      "0\n",
      "1\n",
      "2\n",
      "3\n",
      "4\n",
      "5\n",
      "6\n",
      "7\n",
      "8\n",
      "9\n",
      "10\n",
      "11\n",
      "12\n",
      "13\n",
      "14\n",
      "15\n",
      "16\n",
      "17\n",
      "18\n",
      "19\n",
      "20\n",
      "21\n",
      "22\n",
      "23\n",
      "24\n",
      "25\n",
      "26\n",
      "27\n",
      "28\n",
      "29\n",
      "30\n",
      "31\n",
      "32\n",
      "33\n",
      "34\n",
      "35\n",
      "36\n",
      "37\n",
      "38\n",
      "39\n",
      "40\n",
      "41\n",
      "42\n",
      "43\n",
      "44\n",
      "45\n",
      "46\n",
      "47\n",
      "48\n",
      "49\n",
      "50\n",
      "51\n",
      "52\n",
      "53\n",
      "54\n",
      "55\n",
      "56\n",
      "57\n",
      "58\n",
      "59\n",
      "60\n",
      "61\n",
      "62\n",
      "63\n",
      "64\n",
      "65\n",
      "66\n",
      "67\n",
      "68\n",
      "69\n",
      "70\n",
      "71\n",
      "72\n",
      "73\n",
      "74\n",
      "75\n",
      "76\n",
      "77\n",
      "78\n",
      "79\n",
      "80\n",
      "81\n",
      "82\n",
      "83\n",
      "84\n",
      "85\n",
      "86\n",
      "87\n",
      "88\n",
      "89\n",
      "90\n",
      "91\n",
      "92\n",
      "93\n",
      "94\n",
      "95\n",
      "96\n",
      "97\n",
      "98\n",
      "99\n",
      "100\n",
      "101\n",
      "102\n",
      "103\n",
      "104\n",
      "105\n",
      "106\n",
      "107\n",
      "108\n",
      "109\n",
      "110\n",
      "111\n",
      "112\n",
      "113\n",
      "114\n",
      "115\n",
      "116\n",
      "117\n",
      "118\n",
      "119\n",
      "120\n",
      "121\n",
      "122\n",
      "123\n",
      "124\n",
      "125\n",
      "126\n",
      "127\n",
      "128\n",
      "129\n",
      "130\n",
      "131\n",
      "132\n",
      "133\n",
      "134\n",
      "135\n",
      "136\n",
      "137\n",
      "138\n",
      "139\n",
      "140\n",
      "141\n",
      "142\n",
      "143\n",
      "144\n",
      "145\n",
      "146\n",
      "147\n",
      "148\n",
      "149\n",
      "150\n",
      "151\n",
      "152\n",
      "153\n",
      "154\n",
      "155\n",
      "156\n",
      "157\n",
      "158\n",
      "159\n",
      "160\n",
      "161\n",
      "162\n",
      "163\n",
      "164\n",
      "165\n",
      "166\n",
      "167\n",
      "168\n",
      "169\n",
      "170\n",
      "171\n",
      "172\n",
      "173\n",
      "174\n",
      "175\n",
      "176\n",
      "177\n",
      "178\n",
      "179\n",
      "180\n",
      "181\n",
      "182\n",
      "183\n",
      "184\n",
      "185\n",
      "186\n",
      "187\n",
      "188\n",
      "189\n",
      "190\n",
      "191\n",
      "192\n",
      "193\n",
      "194\n",
      "195\n",
      "196\n",
      "197\n",
      "198\n",
      "199\n",
      "200\n",
      "201\n",
      "202\n",
      "203\n",
      "204\n",
      "205\n",
      "206\n",
      "207\n",
      "208\n",
      "209\n",
      "210\n",
      "211\n",
      "212\n",
      "213\n",
      "214\n",
      "215\n",
      "216\n",
      "217\n",
      "218\n",
      "219\n",
      "220\n",
      "221\n",
      "222\n",
      "223\n",
      "224\n",
      "225\n",
      "226\n",
      "227\n",
      "228\n",
      "229\n",
      "230\n",
      "231\n",
      "232\n",
      "233\n",
      "234\n",
      "235\n",
      "236\n",
      "237\n",
      "238\n",
      "239\n",
      "240\n",
      "241\n",
      "242\n",
      "243\n",
      "244\n",
      "245\n",
      "246\n",
      "247\n",
      "248\n",
      "249\n",
      "250\n",
      "251\n",
      "252\n",
      "253\n",
      "254\n",
      "255\n",
      "256\n",
      "257\n",
      "258\n",
      "259\n",
      "260\n",
      "261\n",
      "262\n",
      "263\n",
      "264\n",
      "265\n",
      "266\n",
      "267\n",
      "268\n",
      "269\n",
      "270\n",
      "271\n",
      "272\n",
      "273\n",
      "274\n",
      "275\n",
      "276\n",
      "277\n",
      "278\n",
      "279\n",
      "280\n",
      "281\n",
      "282\n",
      "283\n",
      "284\n",
      "285\n",
      "286\n",
      "287\n",
      "288\n",
      "289\n",
      "290\n",
      "291\n",
      "292\n",
      "293\n",
      "294\n",
      "295\n",
      "296\n",
      "297\n",
      "298\n",
      "299\n",
      "300\n",
      "301\n",
      "302\n",
      "303\n",
      "304\n",
      "305\n",
      "306\n",
      "307\n",
      "308\n",
      "309\n",
      "310\n",
      "311\n",
      "312\n",
      "313\n",
      "314\n",
      "315\n",
      "316\n",
      "317\n",
      "318\n",
      "319\n",
      "320\n",
      "321\n",
      "322\n",
      "323\n",
      "324\n",
      "325\n",
      "326\n",
      "327\n",
      "328\n",
      "329\n",
      "330\n",
      "331\n",
      "332\n",
      "333\n",
      "334\n",
      "335\n",
      "336\n",
      "337\n",
      "338\n",
      "339\n",
      "340\n",
      "341\n",
      "342\n",
      "343\n",
      "344\n",
      "345\n",
      "346\n",
      "347\n",
      "348\n",
      "349\n",
      "350\n",
      "351\n",
      "352\n",
      "353\n",
      "354\n",
      "355\n",
      "356\n",
      "357\n",
      "358\n",
      "359\n",
      "360\n",
      "361\n",
      "362\n",
      "363\n",
      "364\n",
      "365\n",
      "366\n",
      "367\n",
      "368\n",
      "369\n",
      "370\n",
      "371\n",
      "372\n",
      "373\n",
      "374\n",
      "375\n",
      "376\n",
      "377\n",
      "378\n",
      "379\n",
      "380\n",
      "381\n",
      "382\n",
      "383\n",
      "384\n",
      "385\n",
      "386\n",
      "387\n",
      "388\n",
      "389\n",
      "390\n",
      "391\n",
      "392\n",
      "393\n",
      "394\n",
      "395\n",
      "396\n",
      "397\n",
      "398\n",
      "399\n",
      "400\n",
      "401\n",
      "402\n",
      "403\n",
      "404\n",
      "405\n",
      "406\n",
      "407\n",
      "408\n",
      "409\n",
      "410\n",
      "411\n",
      "412\n",
      "413\n",
      "414\n",
      "415\n",
      "416\n",
      "417\n",
      "418\n",
      "419\n",
      "420\n",
      "421\n",
      "422\n",
      "423\n",
      "424\n",
      "425\n",
      "426\n",
      "427\n",
      "428\n",
      "429\n",
      "430\n",
      "431\n",
      "432\n",
      "433\n",
      "434\n",
      "435\n",
      "436\n",
      "437\n",
      "438\n",
      "439\n",
      "440\n",
      "441\n",
      "442\n",
      "443\n",
      "444\n",
      "445\n",
      "446\n",
      "447\n",
      "448\n",
      "449\n",
      "450\n",
      "451\n",
      "452\n",
      "453\n",
      "454\n",
      "455\n",
      "456\n",
      "457\n",
      "458\n",
      "459\n",
      "460\n",
      "461\n",
      "462\n",
      "463\n",
      "464\n",
      "465\n",
      "466\n",
      "467\n",
      "468\n",
      "469\n",
      "470\n",
      "471\n",
      "472\n",
      "473\n",
      "474\n",
      "475\n",
      "476\n",
      "477\n",
      "478\n",
      "479\n",
      "480\n",
      "481\n",
      "482\n",
      "483\n",
      "484\n",
      "485\n",
      "486\n",
      "487\n",
      "488\n",
      "489\n",
      "490\n",
      "491\n",
      "492\n",
      "493\n",
      "494\n",
      "495\n",
      "496\n",
      "497\n",
      "498\n",
      "499\n"
     ]
    }
   ],
   "source": [
    "a=np.zeros(len(data))\n",
    "for i in range(len(data)):\n",
    "    print(i)\n",
    "    a[i]=DTWDistance(dow,data[i])"
   ]
  },
  {
   "cell_type": "code",
   "execution_count": 31,
   "metadata": {
    "scrolled": false
   },
   "outputs": [
    {
     "data": {
      "text/plain": [
       "array([ 4.23853576,  6.57909594,  7.58851386,  5.62748054,  5.05740064,\n",
       "        5.70413936,  5.24218721,  9.30635254,  5.63723354,  2.09995875,\n",
       "        1.95165083,  4.53920678,  6.11649816,  5.94737041,  1.33667125,\n",
       "        5.84237285,  2.1171383 ,  1.09249001,  8.05735607,  3.79405568,\n",
       "        5.61029806,  5.10180171,  4.60803408,  5.26274919,  4.07133462,\n",
       "        3.92133192,  3.69063586,  0.88074149,  5.03906879,  7.31495434,\n",
       "        7.24050634,  3.86118592,  2.20834055,  7.40683312,  4.4370017 ,\n",
       "        2.40485243,  2.2464626 ,  7.21533304,  7.28259694,  5.1123292 ,\n",
       "        2.06391445,  5.01874766,  5.61959914,  1.65134431,  2.09906006,\n",
       "        1.69465994,  1.49062448,  1.52500638,  2.38569175,  4.91041371,\n",
       "        3.72370166,  2.49797266,  5.24144657,  3.46972092,  2.43560013,\n",
       "        1.78217848,  5.56619991,  6.28872113,  0.79751944,  7.33148251,\n",
       "        4.89892066,  4.79057256,  5.75358376,  5.9830999 ,  2.78500752,\n",
       "        2.75359884,  6.37466741,  6.16743765,  0.74374199,  3.72248028,\n",
       "        3.73376476,  4.50897008,  0.75602861,  3.47762019,  5.32682524,\n",
       "        7.71929471,  7.45834567,  8.37083895,  4.77086347,  4.97441207,\n",
       "        1.13858816,  2.2818996 ,  2.36734356,  4.48065462,  3.04632483,\n",
       "        5.38574195,  6.80623635,  2.58326239,  2.69363496,  4.90554972,\n",
       "        7.96791551,  2.38577593,  4.35738381,  6.92730873,  2.08682271,\n",
       "        5.41097931,  7.06251987,  2.35005919,  5.08164843,  4.52733029,\n",
       "        2.19275464,  2.22799946,  1.20657808,  9.32649325,  1.9127403 ,\n",
       "        6.03861238,  6.53104369,  5.17278483,  4.35689081,  1.75598614,\n",
       "        3.89172828,  5.06430057,  3.47624054,  5.62652572,  7.67809249,\n",
       "        1.95943789,  7.42012299,  3.93407418,  2.63730599,  1.28196845,\n",
       "        1.99891459,  3.86296836,  4.7709759 ,  2.27920071,  4.65439258,\n",
       "        7.52264526,  1.04934749,  3.46550335,  3.11592578,  4.01420086,\n",
       "        4.66890659,  6.52119183,  6.12813086,  2.78462034,  9.16413141,\n",
       "        3.72667297,  5.95958626,  2.74313613,  4.28598049,  1.11915591,\n",
       "        0.84567908,  6.83825851,  2.4603085 ,  7.33755497,  1.35288208,\n",
       "        2.57810561,  5.45612624,  4.84442465,  3.76485211,  4.57051622,\n",
       "        1.60662645,  5.72281887,  1.72576798,  3.07573072,  1.91552909,\n",
       "        9.20213161,  6.4670799 ,  2.14767597,  4.76182962,  3.36597276,\n",
       "        1.8423814 ,  3.3908164 ,  8.12694899,  3.95335254,  6.02331388,\n",
       "        6.58699107,  3.1330277 ,  4.65332856,  2.22129844,  1.94055467,\n",
       "        3.53738454,  4.10362547,  5.07086784,  1.73876372, 10.68128372,\n",
       "        1.69484   ,  3.68562364,  3.54256307,  4.90287093,  2.88074943,\n",
       "        3.16062512,  5.77872908,  1.34588429,  4.53354036,  1.86094222,\n",
       "        4.42575754,  5.17843321,  1.33677203,  3.76175358,  2.37696847,\n",
       "        6.85427878,  7.04332019,  6.83839708,  2.0078823 ,  9.59718298,\n",
       "        2.6158565 ,  7.6014029 ,  7.2846505 ,  6.33451496,  5.79906068,\n",
       "        3.25112517,  4.21587328,  2.32082174,  6.43816317,  1.50254848,\n",
       "        8.22306172,  7.13041452,  5.36376809,  6.98355371,  5.41114528,\n",
       "        0.90731075,  5.84837503,  3.74912697,  5.35706877,  7.02641031,\n",
       "        0.69175802,  5.53365288,  5.42639179,  8.48351319,  7.74627372,\n",
       "        6.89454895,  2.46176241,  4.34875521,  4.67970243,  1.71068275,\n",
       "        1.69332111,  6.53558163,  2.9294941 ,  7.90431636,  2.37150401,\n",
       "        0.92508184,  1.79628739,  1.84856746,  2.85623055,  1.55468639,\n",
       "        7.96715578,  1.27550643,  7.48340128,  6.7391337 ,  6.4768888 ,\n",
       "        6.30580811,  6.54013585,  2.3894351 ,  6.63423503,  6.8603319 ,\n",
       "        5.91367343,  4.17456675,  5.39709361,  9.56595884,  5.52621994,\n",
       "        5.31637243,  2.98756858,  6.5697564 ,  3.47524938,  0.96459319,\n",
       "        1.56291939,  5.08036833,  6.3136894 ,  4.06143373,  7.27285838,\n",
       "        1.66198346,  3.03880842,  4.52608372,  2.46138079,  8.05087898,\n",
       "        2.52060556,  7.43861405,  4.18494563,  7.70158941,  6.03495029,\n",
       "        5.72359848,  3.78235759,  1.65018347,  9.37471088,  9.34535035,\n",
       "        7.49154823,  9.72209511,  7.88772388,  6.04750476,  8.93524115,\n",
       "        7.51320045,  2.91005729,  2.11972828,  6.19578026,  5.77180425,\n",
       "        5.86642101,  1.71760666,  2.90908551,  1.2110013 ,  7.70712325,\n",
       "        7.44292302,  4.83470912,  6.99156805,  2.55405977,  8.62415255,\n",
       "        5.87788218,  6.32390647,  5.46386949,  9.72577203,  5.53509037,\n",
       "        6.35422758,  2.18526201,  5.49161546,  0.91024161,  5.61949444,\n",
       "        4.0186647 ,  3.55856604,  4.92200932,  3.87646457,  3.32143722,\n",
       "        1.77099342,  5.00423118,  1.96399115,  3.76018426,  4.91762782,\n",
       "        2.21972412,  2.55211594,  7.52295542,  6.07883427,  1.43971687,\n",
       "        5.31324839,  3.29052695,  3.55670623,  5.38255636,  1.66419077,\n",
       "        3.042926  ,  4.98349587,  3.27918893,  8.20868178,  8.06428007,\n",
       "        4.49116752,  3.96467321,  4.10607123,  1.73312109,  2.81743584,\n",
       "        7.97365352,  6.9633536 ,  7.46999449,  2.10676806,  5.80759497,\n",
       "        1.36898163,  4.99290051,  1.14388438,  5.4914533 ,  6.81809863,\n",
       "        3.48889083,  1.29771684,  3.34217371,  6.08710511,  6.82465671,\n",
       "        1.090034  ,  5.91864373,  2.38860993,  5.61613851,  2.0218329 ,\n",
       "        5.3920462 ,  3.35225178,  4.05746724,  7.53374959,  2.88146198,\n",
       "        5.2275458 ,  4.46900747,  2.88529903,  4.7510997 ,  7.26682752,\n",
       "        4.10656716,  1.97469163,  2.05653303,  6.49530386,  1.81160076,\n",
       "        4.85692936,  3.95361456,  4.94834048,  1.26771681,  1.74137504,\n",
       "        5.18913704,  3.63311479,  8.8772086 ,  3.18719645,  3.32598872,\n",
       "        5.57898212,  7.25715212,  9.34712279,  4.50720066,  1.539386  ,\n",
       "        6.03818313,  2.84115596,  9.15849257,  5.59376491,  1.14551577,\n",
       "        2.84332588,  4.1854097 ,  7.54836324,  2.78427578,  7.80256016,\n",
       "        1.63180642,  5.66301981,  1.76262111,  2.8577234 ,  3.29638984,\n",
       "        1.71486266,  2.30015633,  5.07271046,  2.32318777,  3.15401525,\n",
       "        2.10716894,  0.92190137,  6.03604788,  5.30099307,  1.71644991,\n",
       "        1.93147427,  1.72284475,  5.29382417,  7.30233933,  4.42815086,\n",
       "        4.83245841,  3.05138329,  3.01871492,  6.04305756,  3.10425793,\n",
       "        5.12434157,  5.46591794,  8.83319375,  5.33570053,  2.41715559,\n",
       "        2.14064673,  3.79056008,  3.14184718,  4.164998  ,  6.56702041,\n",
       "        3.7747314 ,  3.34465561,  4.88584799,  3.82422986,  7.47006222,\n",
       "        6.01436559,  7.68365325,  4.94256482,  6.2006538 ,  5.28022063,\n",
       "        7.76152259,  3.54543826,  2.7819497 ,  9.68876603,  1.61069762,\n",
       "        1.65669959,  7.82903404,  5.88248269,  6.29878011,  4.70719141,\n",
       "        5.69716446,  4.04353766,  6.97588789,  1.12584953,  3.89007963,\n",
       "        7.25537593,  2.59823185,  5.09957224,  2.43686154,  7.70154987,\n",
       "        5.97046581,  1.99003421,  6.59197694,  7.0082798 ,  1.46392487,\n",
       "        8.02008572,  3.8522956 ,  2.22572016,  7.11119723,  4.60542972,\n",
       "        3.13989259,  5.87785799,  2.2599473 ,  3.67161229,  1.65009476,\n",
       "        7.9875127 ,  5.29534066,  2.90286656,  5.03713444,  5.01056191,\n",
       "        1.62073644,  5.3226302 ,  1.76934392,  4.53483354,  6.03019555,\n",
       "        8.64704566,  1.33463457,  6.20874124,  5.43708951,  3.9062735 ,\n",
       "        1.90110296,  3.90154954,  5.90912444,  0.9671885 ,  7.25140032,\n",
       "        2.72608354,  4.11545564,  3.09536307,  1.51399156,  8.21729082])"
      ]
     },
     "execution_count": 31,
     "metadata": {},
     "output_type": "execute_result"
    }
   ],
   "source": [
    "a"
   ]
  },
  {
   "cell_type": "code",
   "execution_count": 32,
   "metadata": {},
   "outputs": [],
   "source": [
    "array_a = np.array(a)\n",
    "order_a = array_a.argsort()\n",
    "ranks_a = order_a.argsort()"
   ]
  },
  {
   "cell_type": "code",
   "execution_count": 33,
   "metadata": {},
   "outputs": [
    {
     "data": {
      "text/plain": [
       "array([238, 402, 453, 342, 290, 346, 305, 489, 343,  90,  78, 255, 378,\n",
       "       363,  27, 354,  93,  14, 473, 208, 337, 297, 258, 306, 228, 218,\n",
       "       196,   5, 289, 436, 427, 211,  99, 439, 245, 119, 104, 426, 433,\n",
       "       298,  87, 287, 340,  47,  89,  52,  34,  37, 115, 277, 198, 126,\n",
       "       304, 183, 121,  67, 334, 384,   3, 437, 274, 268, 349, 366, 142,\n",
       "       138, 391, 380,   1, 197, 200, 250,   2, 186, 314, 460, 443, 479,\n",
       "       266, 282,  17, 107, 112, 247, 159, 319, 407, 131, 135, 276, 468,\n",
       "       116, 242, 415,  88, 322, 423, 111, 295, 252,  98, 103,  20, 490,\n",
       "        74, 373, 397, 300, 241,  63, 215, 291, 185, 341, 455,  79, 440,\n",
       "       219, 134,  24,  83, 212, 267, 106, 260, 449,  12, 182, 164, 223,\n",
       "       261, 396, 379, 141, 487, 199, 364, 137, 239,  15,   4, 410, 123,\n",
       "       438,  30, 130, 326, 271, 204, 256,  41, 347,  59, 161,  75, 488,\n",
       "       393,  96, 265, 180,  70, 181, 475, 220, 368, 403, 165, 259, 101,\n",
       "        77, 188, 229, 292,  61, 499,  53, 195, 189, 275, 148, 169, 351,\n",
       "        29, 253,  72, 243, 301,  28, 203, 114, 412, 422, 411,  84, 495,\n",
       "       133, 454, 434, 389, 352, 171, 237, 109, 392,  35, 478, 425, 317,\n",
       "       418, 323,   6, 355, 201, 316, 421,   0, 332, 324, 480, 461, 414,\n",
       "       125, 240, 262,  54,  51, 398, 154, 466, 113,   9,  68,  71, 146,\n",
       "        39, 467,  23, 446, 406, 394, 386, 399, 118, 405, 413, 361, 234,\n",
       "       321, 494, 331, 312, 155, 401, 184,  10,  40, 294, 387, 227, 432,\n",
       "        49, 157, 251, 124, 472, 127, 441, 235, 458, 370, 348, 206,  46,\n",
       "       493, 491, 447, 497, 465, 375, 485, 448, 153,  94, 381, 350, 356,\n",
       "        57, 152,  21, 459, 442, 270, 419, 129, 481, 358, 388, 327, 498,\n",
       "       333, 390,  97, 330,   7, 339, 224, 192, 279, 213, 175,  66, 285,\n",
       "        80, 202, 278, 100, 128, 450, 376,  32, 311, 173, 191, 318,  50,\n",
       "       158, 283, 172, 476, 474, 248, 222, 230,  60, 143, 469, 416, 444,\n",
       "        91, 353,  31, 284,  18, 329, 408, 187,  25, 177, 377, 409,  13,\n",
       "       362, 117, 338,  85, 320, 179, 226, 451, 149, 303, 246, 150, 264,\n",
       "       431, 231,  81,  86, 395,  69, 272, 221, 281,  22,  62, 302, 193,\n",
       "       484, 170, 176, 335, 430, 492, 249,  38, 372, 144, 486, 336,  19,\n",
       "       145, 236, 452, 140, 463,  44, 344,  64, 147, 174,  55, 108, 293,\n",
       "       110, 168,  92,   8, 371, 310,  56,  76,  58, 308, 435, 244, 269,\n",
       "       160, 156, 374, 163, 299, 328, 483, 315, 120,  95, 207, 167, 233,\n",
       "       400, 205, 178, 273, 209, 445, 367, 456, 280, 382, 307, 462, 190,\n",
       "       139, 496,  42,  48, 464, 359, 385, 263, 345, 225, 417,  16, 214,\n",
       "       429, 132, 296, 122, 457, 365,  82, 404, 420,  33, 471, 210, 102,\n",
       "       424, 257, 166, 357, 105, 194,  45, 470, 309, 151, 288, 286,  43,\n",
       "       313,  65, 254, 369, 482,  26, 383, 325, 217,  73, 216, 360,  11,\n",
       "       428, 136, 232, 162,  36, 477], dtype=int64)"
      ]
     },
     "execution_count": 33,
     "metadata": {},
     "output_type": "execute_result"
    }
   ],
   "source": [
    "ranks_a"
   ]
  },
  {
   "cell_type": "code",
   "execution_count": 59,
   "metadata": {},
   "outputs": [],
   "source": [
    "sim_item=[]\n",
    "dis_item=[]\n",
    "for i in range(500):\n",
    "    if(ranks_a[i]<30):\n",
    "        sim_item.append(i)\n",
    "        \n",
    "    if(ranks_a[i]>469):\n",
    "        dis_item.append(i)"
   ]
  },
  {
   "cell_type": "code",
   "execution_count": 61,
   "metadata": {
    "scrolled": true
   },
   "outputs": [
    {
     "data": {
      "image/png": "[encoded data removed]",
      "text/plain": [
       "<Figure size 432x288 with 1 Axes>"
      ]
     },
     "metadata": {
      "needs_background": "light"
     },
     "output_type": "display_data"
    }
   ],
   "source": [
    "x=np.arange(len(date))\n",
    "for i in sim_item:\n",
    "    y=data[i]\n",
    "    plt.plot(x,y)\n",
    "plt.show()"
   ]
  },
  {
   "cell_type": "code",
   "execution_count": 68,
   "metadata": {},
   "outputs": [],
   "source": [
    "sim_item=[]\n",
    "dis_item=[]\n",
    "for i in range(500):\n",
    "    if(ranks_a[i]<30):\n",
    "        sim_item.append(itemname[i])\n",
    "        \n",
    "    if(ranks_a[i]>469):\n",
    "        dis_item.append(itemname[i])"
   ]
  },
  {
   "cell_type": "code",
   "execution_count": 73,
   "metadata": {
    "scrolled": true
   },
   "outputs": [
    {
     "data": {
      "text/plain": [
       "['F&F',\n",
       " 'GS건설',\n",
       " 'KB금융',\n",
       " 'S-Oil',\n",
       " 'SK이노베이션',\n",
       " 'SK하이닉스',\n",
       " '경농',\n",
       " '남선알미늄',\n",
       " '대신증권우',\n",
       " '대웅제약',\n",
       " '대호에이엘',\n",
       " '더존비즈온',\n",
       " '메리츠화재',\n",
       " '무림P&P',\n",
       " '삼성SDI',\n",
       " '삼성전기',\n",
       " '삼진제약',\n",
       " '상상인증권',\n",
       " '셀트리온',\n",
       " '엔씨소프트',\n",
       " '우신시스템',\n",
       " '일진머티리얼즈',\n",
       " '제이준코스메틱',\n",
       " '조비',\n",
       " '코스모신소재',\n",
       " '태영건설',\n",
       " '하나금융지주',\n",
       " '한창제지',\n",
       " '화승인더',\n",
       " '후성']"
      ]
     },
     "execution_count": 73,
     "metadata": {},
     "output_type": "execute_result"
    }
   ],
   "source": [
    "sim_item"
   ]
  },
  {
   "cell_type": "markdown",
   "metadata": {},
   "source": [
    "# 다우 지수와 유사한 상위 30개 종목의 업종 Crawling & Visualization (WordCloud)"
   ]
  },
  {
   "cell_type": "code",
   "execution_count": 74,
   "metadata": {},
   "outputs": [],
   "source": [
    "from selenium import webdriver\n",
    "from selenium.webdriver.common.keys import Keys\n",
    "from selenium.webdriver.common.action_chains import ActionChains"
   ]
  },
  {
   "cell_type": "code",
   "execution_count": 148,
   "metadata": {
    "scrolled": true
   },
   "outputs": [],
   "source": [
    "categories=[]\n",
    "for i in range(len(sim_item)):\n",
    "    if i>-1:\n",
    "    \n",
    "        driver= webdriver.Chrome('/Users/USER/Desktop/chromedriver')\n",
    "        driver.get('https://finance.naver.com/')\n",
    "        driver.implicitly_wait(1)\n",
    "        search=driver.find_element_by_xpath('//*[@id=\"stock_items\"]')\n",
    "        search.send_keys(sim_item[i])\n",
    "        search.submit()\n",
    "        \n",
    "        try:\n",
    "            data=driver.find_element_by_xpath('//*[@id=\"content\"]/div[5]/h4/em/a').text\n",
    "            categories.append(data)\n",
    "        \n",
    "        except:\n",
    "            driver.find_element_by_xpath('//*[@id=\"content\"]/div[4]/table/tbody/tr[1]/td[1]/a').click()\n",
    "            data=driver.find_element_by_xpath('//*[@id=\"content\"]/div[5]/h4/em/a').text\n",
    "            categories.append(data)\n",
    "        driver.implicitly_wait(1)\n",
    "        driver.quit()\n"
   ]
  },
  {
   "cell_type": "code",
   "execution_count": 154,
   "metadata": {},
   "outputs": [],
   "source": [
    "import matplotlib.pyplot as plt\n",
    "%matplotlib inline\n",
    "\n",
    "from wordcloud import WordCloud\n",
    "\n",
    "text=open(\"upjong.txt\").read()\n",
    "    \n",
    "wordcloud = WordCloud('C:/Windows/Fonts/malgun.ttf', background_color='white', width=800, height=600,max_font_size=150).generate(str(categories))"
   ]
  },
  {
   "cell_type": "code",
   "execution_count": 155,
   "metadata": {},
   "outputs": [
    {
     "data": {
      "image/png": "[encoded data removed]",
      "text/plain": [
       "<Figure size 576x576 with 1 Axes>"
      ]
     },
     "metadata": {
      "needs_background": "light"
     },
     "output_type": "display_data"
    }
   ],
   "source": [
    "plt.figure(figsize=(8,8))\n",
    "plt.imshow(wordcloud, interpolation=\"bilinear\")\n",
    "plt.axis(\"off\")\n",
    "plt.show()"
   ]
  }
 ],
 "metadata": {
  "kernelspec": {
   "display_name": "Python 3",
   "language": "python",
   "name": "python3"
  },
  "language_info": {
   "codemirror_mode": {
    "name": "ipython",
    "version": 3
   },
   "file_extension": ".py",
   "mimetype": "text/x-python",
   "name": "python",
   "nbconvert_exporter": "python",
   "pygments_lexer": "ipython3",
   "version": "3.7.1"
  }
 },
 "nbformat": 4,
 "nbformat_minor": 2
}
